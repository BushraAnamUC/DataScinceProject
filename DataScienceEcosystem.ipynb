{
 "cells": [
  {
   "cell_type": "markdown",
   "id": "da6bac8b-c52c-45cd-b1b4-ee21d47e1807",
   "metadata": {},
   "source": [
    "# Data Science Tools and Ecosystem"
   ]
  },
  {
   "cell_type": "markdown",
   "id": "f6990f1f-b0e0-42ff-8f31-8000daa4accf",
   "metadata": {},
   "source": [
    "In this notebook, Data Science Tools and Ecosystem are Summarized"
   ]
  },
  {
   "cell_type": "markdown",
   "id": "bc45ff87-1697-46a4-954c-5e3bb3453884",
   "metadata": {},
   "source": [
    "### Objectives:\n",
    "- Some of the popular languages that Data Scientists use\n",
    "- Some of the commonly used libraries used by Data Scientists\n",
    "- List of Data Science Tools\n",
    "- List of few examples of evaluating arithmetic expressions in Python"
   ]
  },
  {
   "cell_type": "markdown",
   "id": "9cb54d23-a48a-4854-8975-25418d1a4bb6",
   "metadata": {},
   "source": [
    "Some of the popular languages that Data Scientists use are:\n",
    "<ol>\n",
    "<li>Python</li>\n",
    "<li>R</li>\n",
    "<li>Java</li>\n",
    "<li>C++</li>\n",
    "<li>SQL</li>\n",
    "<li>Julia</li>\n",
    "</ol>"
   ]
  },
  {
   "cell_type": "markdown",
   "id": "5efeff31-2c51-4300-989c-6dded0381ab6",
   "metadata": {},
   "source": [
    "Some of the commonly used libraries used by Data Scientists include:\n",
    "<ol>\n",
    "<li>NumPy</li>\n",
    "<li>Pandas</li>\n",
    "<li>Scikit-learn</li>\n",
    "<li>Matplotlib</li>\n",
    "<li>Seaborn</li>\n",
    "<li>Plotly</li>\n",
    "<li>Statsmodels</li>\n",
    "</ol>"
   ]
  },
  {
   "cell_type": "markdown",
   "id": "84ff4201-ee7b-45cf-b6db-2fd4ddf927c7",
   "metadata": {},
   "source": [
    "|Data Science Tools    | \n",
    "|:---------------------|\n",
    "| Jupter IDE           | \n",
    "| Rstudio              | \n",
    "| Visual Studio Code   |\n"
   ]
  },
  {
   "cell_type": "markdown",
   "id": "8a8f7d1d-1b24-4a15-a623-99f17fb00cc7",
   "metadata": {},
   "source": [
    "### Below are a few examples of evaluating arithmetic expressions in Python.\n",
    "\n"
   ]
  },
  {
   "cell_type": "code",
   "execution_count": 1,
   "id": "9599dba7-456c-4524-a81d-950243e2d8d1",
   "metadata": {},
   "outputs": [
    {
     "data": {
      "text/plain": [
       "17"
      ]
     },
     "execution_count": 1,
     "metadata": {},
     "output_type": "execute_result"
    }
   ],
   "source": [
    "# This a simple arithmetic expression to mutiply then add integers\n",
    "(3*4)+5"
   ]
  },
  {
   "cell_type": "code",
   "execution_count": 3,
   "id": "d49c7245-aea4-4ec3-97ff-32e5c4bd6cc1",
   "metadata": {},
   "outputs": [
    {
     "name": "stdout",
     "output_type": "stream",
     "text": [
      "Hours in 200 minutes =  3.3333333333333335\n"
     ]
    }
   ],
   "source": [
    "# This will convert 200 minutes to hours by diving by 60\n",
    "Min = 200\n",
    "Min_to_hours = Min/60\n",
    "print ('Hours in', Min, 'minutes = ',Min_to_hours)"
   ]
  },
  {
   "cell_type": "markdown",
   "id": "8074db20-c11b-4643-a6b8-801fa4e17822",
   "metadata": {},
   "source": [
    "##"
   ]
  }
 ],
 "metadata": {
  "kernelspec": {
   "display_name": "Python 3 (ipykernel)",
   "language": "python",
   "name": "python3"
  },
  "language_info": {
   "codemirror_mode": {
    "name": "ipython",
    "version": 3
   },
   "file_extension": ".py",
   "mimetype": "text/x-python",
   "name": "python",
   "nbconvert_exporter": "python",
   "pygments_lexer": "ipython3",
   "version": "3.11.2"
  }
 },
 "nbformat": 4,
 "nbformat_minor": 5
}
